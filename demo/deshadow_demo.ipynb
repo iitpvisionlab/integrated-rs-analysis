{
 "cells": [
  {
   "cell_type": "code",
   "execution_count": null,
   "id": "eb0ae394-56ea-4f05-a90e-1bfa90416f74",
   "metadata": {},
   "outputs": [],
   "source": [
    "import sys\n",
    "sys.path.append(\"../\")\n",
    "\n",
    "from deshadow.cloud_shadow_detection import get_masks\n",
    "from deshadow.deshadow import deshadow_image\n",
    "from indices import ndvi\n",
    "from utils import load_img, save_img, postprocess_image\n",
    "from vis import ndvi_vis\n",
    "\n",
    "import numpy as np\n",
    "import matplotlib.pyplot as plt\n",
    "import os.path as osp"
   ]
  },
  {
   "cell_type": "code",
   "execution_count": null,
   "id": "4feca487-c005-4f03-bf75-2a47a050014b",
   "metadata": {},
   "outputs": [],
   "source": [
    "storage = \"supplemental_materials/deshadow\"\n",
    "red_path = osp.join(storage, \"S2A_MSIL1C_T36UWB_2016_F22C10_B04_20160624T084602_P20160624T085149.tif\")\n",
    "green_path = osp.join(storage, \"S2A_MSIL1C_T36UWB_2016_F22C10_B03_20160624T084602_P20160624T085149.tif\")\n",
    "blue_path = osp.join(storage, \"S2A_MSIL1C_T36UWB_2016_F22C10_B02_20160624T084602_P20160624T085149.tif\")\n",
    "nir_path = osp.join(storage, \"S2A_MSIL1C_T36UWB_2016_F22C10_B08_20160624T084602_P20160624T085149.tif\")"
   ]
  },
  {
   "cell_type": "code",
   "execution_count": null,
   "id": "39abca5b-5941-4608-b145-a2517238a741",
   "metadata": {},
   "outputs": [],
   "source": [
    "red = load_img(red_path)\n",
    "green = load_img(green_path)\n",
    "blue = load_img(blue_path)\n",
    "nir = load_img(nir_path)"
   ]
  },
  {
   "cell_type": "code",
   "execution_count": null,
   "id": "8eb72874-2712-4fc7-a278-5839028f3997",
   "metadata": {},
   "outputs": [],
   "source": [
    "rgbn = np.dstack([red, green, blue, nir])[4000:, 1000:3000]\n",
    "rgbn_norm = postprocess_image(rgbn, np.float32)"
   ]
  },
  {
   "cell_type": "code",
   "execution_count": null,
   "id": "d3f05a12-2408-411a-8fcd-b38cc11ce13d",
   "metadata": {},
   "outputs": [],
   "source": [
    "cloud_mask, shadow_mask = get_masks(rgbn_norm)"
   ]
  },
  {
   "cell_type": "code",
   "execution_count": null,
   "id": "64beb553-b24d-4ff2-9ac6-c66b347833b0",
   "metadata": {},
   "outputs": [],
   "source": [
    "d_image = deshadow_image(rgbn, cloud_mask, shadow_mask)"
   ]
  },
  {
   "cell_type": "code",
   "execution_count": null,
   "id": "9a65b1a4-2513-4909-94b8-6388b7698f16",
   "metadata": {},
   "outputs": [],
   "source": [
    "fig, (ax1, ax2, ax3) = plt.subplots(1, 3, figsize=(20, 5))\n",
    "fig.suptitle('RGB visualisation')\n",
    "rgb = rgbn_norm[..., :3].copy()\n",
    "ax1.imshow(rgb)\n",
    "ax1.set_title(\"before deshadow\")\n",
    "vis = rgb.copy()\n",
    "vis[cloud_mask==255] = [0, 0, 1]\n",
    "vis[shadow_mask==255] = [1, 0, 0]\n",
    "ax2.imshow(vis)\n",
    "ax2.set_title(\"clouds (blue) and shadows (red) masks\")\n",
    "ax3.imshow(postprocess_image(d_image, np.float32)[..., :3])\n",
    "ax3.set_title(\"after deshadow\")\n",
    "plt.show()"
   ]
  },
  {
   "cell_type": "code",
   "execution_count": null,
   "id": "33ca33dd-4075-4bc4-943a-71a2448038e8",
   "metadata": {},
   "outputs": [],
   "source": [
    "fig, (ax1, ax2) = plt.subplots(1, 2, figsize=(15, 5))\n",
    "fig.suptitle('NDVI visualisation')\n",
    "\n",
    "ndvi_raw = ndvi(rgbn[..., 0], rgbn[..., 3])\n",
    "d_ndvi = ndvi(d_image[..., 0], d_image[..., 3])\n",
    "\n",
    "ax1.imshow(ndvi_vis(ndvi_raw, cloud_mask))\n",
    "ax1.set_title(\"before deshadow\")\n",
    "\n",
    "ax2.imshow(ndvi_vis(d_ndvi, cloud_mask))\n",
    "ax2.set_title(\"after deshadow\")"
   ]
  },
  {
   "cell_type": "code",
   "execution_count": null,
   "id": "b7f1dacf-9e65-4cb0-b662-ca503f58206f",
   "metadata": {},
   "outputs": [],
   "source": []
  }
 ],
 "metadata": {
  "kernelspec": {
   "display_name": "Python 3 (ipykernel)",
   "language": "python",
   "name": "python3"
  },
  "language_info": {
   "codemirror_mode": {
    "name": "ipython",
    "version": 3
   },
   "file_extension": ".py",
   "mimetype": "text/x-python",
   "name": "python",
   "nbconvert_exporter": "python",
   "pygments_lexer": "ipython3",
   "version": "3.10.12"
  }
 },
 "nbformat": 4,
 "nbformat_minor": 5
}
