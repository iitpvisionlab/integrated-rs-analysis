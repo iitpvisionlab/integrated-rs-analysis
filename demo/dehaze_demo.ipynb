{
 "cells": [
  {
   "cell_type": "code",
   "execution_count": null,
   "id": "a5ed81ce",
   "metadata": {},
   "outputs": [],
   "source": [
    "import sys\n",
    "sys.path.append(\"../\")\n",
    "\n",
    "from dehaze.cadcp import cadcp, calculate_metrics\n",
    "import numpy as np\n",
    "from skimage.io import imread\n",
    "import os.path as osp\n",
    "import matplotlib.pyplot as plt"
   ]
  },
  {
   "cell_type": "code",
   "execution_count": null,
   "id": "3fa83491",
   "metadata": {},
   "outputs": [],
   "source": [
    "orig_dir = \"supplemental_materials/dehaze\"\n",
    "haze_dir = \"supplemental_materials/dehaze\""
   ]
  },
  {
   "cell_type": "code",
   "execution_count": null,
   "id": "05729fab",
   "metadata": {},
   "outputs": [],
   "source": [
    "ref_fp = osp.join(orig_dir, f'orig.jpeg')\n",
    "src_fp = osp.join(haze_dir, f'image.jpeg')\n",
    "src = imread(src_fp)\n",
    "ref = (imread(ref_fp)/255).astype(np.float32)\n",
    "res_cadcp_hard = (cadcp(src, gf_on=False, a_mean=False)/255).astype(np.float32)\n",
    "res_cadcp_soft = (cadcp(src, gf_on=False, a_mean=True)/255).astype(np.float32)\n",
    "res_cadcp_hard_filtered = (cadcp(src, gf_on=True, a_mean=False)/255).astype(np.float32)\n",
    "res_cadcp_soft_filtered = (cadcp(src, gf_on=True, a_mean=True)/255).astype(np.float32)\n"
   ]
  },
  {
   "cell_type": "code",
   "execution_count": null,
   "id": "62e3bd4a",
   "metadata": {},
   "outputs": [],
   "source": [
    "fig, ax = plt.subplots(1,6,figsize=(32,18))\n",
    "ax[0].set_title('Reference')\n",
    "ax[1].set_title(f'Simulated haze , MSE = {calculate_metrics(ref, (src/255).astype(np.float32))}')\n",
    "ax[2].set_title(f'CADCP_hard , MSE = {calculate_metrics(ref, res_cadcp_hard)}')\n",
    "ax[3].set_title(f'CADCP_hard_filtered , MSE = {calculate_metrics(ref, res_cadcp_hard_filtered)}')\n",
    "ax[4].set_title(f'CADCP_soft , MSE = {calculate_metrics(ref, res_cadcp_soft)}')\n",
    "ax[5].set_title(f'CADCP_soft_filtered , MSE = {calculate_metrics(ref, res_cadcp_soft_filtered)}')\n",
    "\n",
    "    \n",
    "ax[0].axis('off')\n",
    "ax[1].axis('off')\n",
    "ax[2].axis('off')\n",
    "ax[3].axis('off')\n",
    "ax[4].axis('off')\n",
    "ax[5].axis('off')\n",
    "\n",
    "ax[0].imshow(ref)\n",
    "ax[1].imshow(src)\n",
    "ax[2].imshow(res_cadcp_hard)\n",
    "ax[3].imshow(res_cadcp_hard_filtered)\n",
    "ax[4].imshow(res_cadcp_soft)\n",
    "ax[5].imshow(res_cadcp_soft_filtered)\n",
    "\n",
    "plt.show()"
   ]
  }
 ],
 "metadata": {
  "kernelspec": {
   "display_name": "Python 3 (ipykernel)",
   "language": "python",
   "name": "python3"
  },
  "language_info": {
   "codemirror_mode": {
    "name": "ipython",
    "version": 3
   },
   "file_extension": ".py",
   "mimetype": "text/x-python",
   "name": "python",
   "nbconvert_exporter": "python",
   "pygments_lexer": "ipython3",
   "version": "3.10.5"
  }
 },
 "nbformat": 4,
 "nbformat_minor": 5
}
