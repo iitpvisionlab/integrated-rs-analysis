{
 "cells": [
  {
   "cell_type": "code",
   "execution_count": null,
   "id": "610af7c5-3379-428e-9761-7705c01dc3f3",
   "metadata": {},
   "outputs": [],
   "source": [
    "import numpy as np\n",
    "import pandas as pd\n",
    "import os.path as osp\n",
    "\n",
    "import sys\n",
    "sys.path.append(\"../\")\n",
    "from spec_harmonization.rpc import RPC"
   ]
  },
  {
   "cell_type": "code",
   "execution_count": null,
   "id": "3ce19f67-dd27-4e3c-9bb2-65eec6a3da87",
   "metadata": {},
   "outputs": [],
   "source": [
    "train_sentinel = pd.read_csv(osp.join(\"supplemental_materials\", \"spec_harmonization\", \"train_sentinel.csv\"))\n",
    "train_sequoia = pd.read_csv(osp.join(\"supplemental_materials\", \"spec_harmonization\", \"train_sequoia.csv\"))\n",
    "test_sentinel = pd.read_csv(osp.join(\"supplemental_materials\", \"spec_harmonization\", \"test_sentinel.csv\"))\n",
    "test_sequoia = pd.read_csv(osp.join(\"supplemental_materials\", \"spec_harmonization\", \"test_sequoia.csv\"))"
   ]
  },
  {
   "cell_type": "code",
   "execution_count": null,
   "id": "c0f27fac-60ae-48e2-aade-858e7696b297",
   "metadata": {},
   "outputs": [],
   "source": [
    "rpc_model = RPC(3)"
   ]
  },
  {
   "cell_type": "code",
   "execution_count": null,
   "id": "914cccc5-9b09-44c2-a4cd-d2a3356f2cbd",
   "metadata": {},
   "outputs": [],
   "source": [
    "rpc_model.fit(train_sequoia, train_sentinel)"
   ]
  },
  {
   "cell_type": "code",
   "execution_count": null,
   "id": "ae2a503b-e486-4ea5-9885-a666dcf6d510",
   "metadata": {},
   "outputs": [],
   "source": [
    "y = rpc_model.predict(test_sequoia)"
   ]
  },
  {
   "cell_type": "code",
   "execution_count": null,
   "id": "8378a6d7-2c2e-485a-b96e-9395a640b114",
   "metadata": {},
   "outputs": [],
   "source": [
    "np.mean((test_sentinel - y)**2, axis=0)**0.5"
   ]
  },
  {
   "cell_type": "code",
   "execution_count": null,
   "id": "e849f550-702a-4905-a83e-49db1f899d2c",
   "metadata": {},
   "outputs": [],
   "source": [
    "mod = rpc_model.model.model\n",
    "indices = rpc_model.model.indices\n",
    "columns = rpc_model.columns"
   ]
  },
  {
   "cell_type": "code",
   "execution_count": null,
   "id": "ef74146e-5498-46e8-984f-57f995462fcc",
   "metadata": {},
   "outputs": [],
   "source": [
    "rpc_model1 = RPC(3)\n",
    "rpc_model1.model.model = mod\n",
    "rpc_model1.model.indices = indices\n",
    "rpc_model1.columns = columns"
   ]
  },
  {
   "cell_type": "code",
   "execution_count": null,
   "id": "4546f713-23e2-4138-a1d0-cb5733942834",
   "metadata": {},
   "outputs": [],
   "source": [
    "x = rpc_model1.predict(test_sequoia)"
   ]
  },
  {
   "cell_type": "code",
   "execution_count": null,
   "id": "d0663a22-90f1-4061-b422-e245d51572f3",
   "metadata": {},
   "outputs": [],
   "source": [
    "columns"
   ]
  },
  {
   "cell_type": "code",
   "execution_count": null,
   "id": "232ba17a-8e17-4c1b-bae9-4ea562867fbd",
   "metadata": {},
   "outputs": [],
   "source": [
    "np.save(osp.join(\"supplemental_materials\", \"spec_harmonization\", \"model_coef.npy\"), mod)\n",
    "np.save(osp.join(\"supplemental_materials\", \"spec_harmonization\", \"indices.npy\"), np.array(indices))\n",
    "# np.save(osp.join(\"supplemental_materials\", \"spec_harmonization\", \"model_coef.npy\"), mod)"
   ]
  },
  {
   "cell_type": "code",
   "execution_count": null,
   "id": "3f262bbe-44e6-4fdb-a2fe-8b41e1c33227",
   "metadata": {},
   "outputs": [],
   "source": [
    "rpc_model2 = RPC(3)\n",
    "rpc_model2.model.model = np.load(osp.join(\"supplemental_materials\", \"spec_harmonization\", \"model_coef.npy\"))\n",
    "rpc_model2.model.indices = np.load(osp.join(\"supplemental_materials\", \"spec_harmonization\", \"indices.npy\"))\n",
    "rpc_model2.columns = columns"
   ]
  },
  {
   "cell_type": "code",
   "execution_count": null,
   "id": "13a04abb-6990-4a00-a0cb-5b714bbc3f78",
   "metadata": {},
   "outputs": [],
   "source": [
    "xx = rpc_model2.predict(test_sequoia)"
   ]
  },
  {
   "cell_type": "code",
   "execution_count": null,
   "id": "b84b00a3-ff04-43e0-bf24-116e5277c7f2",
   "metadata": {},
   "outputs": [],
   "source": []
  }
 ],
 "metadata": {
  "kernelspec": {
   "display_name": "Python 3 (ipykernel)",
   "language": "python",
   "name": "python3"
  },
  "language_info": {
   "codemirror_mode": {
    "name": "ipython",
    "version": 3
   },
   "file_extension": ".py",
   "mimetype": "text/x-python",
   "name": "python",
   "nbconvert_exporter": "python",
   "pygments_lexer": "ipython3",
   "version": "3.10.12"
  }
 },
 "nbformat": 4,
 "nbformat_minor": 5
}
