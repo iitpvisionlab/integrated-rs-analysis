{
 "cells": [
  {
   "cell_type": "markdown",
   "id": "d39b1b20",
   "metadata": {},
   "source": [
    "Import libraries"
   ]
  },
  {
   "cell_type": "code",
   "execution_count": null,
   "id": "fb412aaa",
   "metadata": {},
   "outputs": [],
   "source": [
    "import sys\n",
    "sys.path.append(\"../\")\n",
    "\n",
    "from equilization.equilization import read_gain, rad, AffineModel\n",
    "import os.path as osp\n",
    "import numpy as np\n",
    "import matplotlib.pyplot as plt"
   ]
  },
  {
   "cell_type": "markdown",
   "id": "dc25acec",
   "metadata": {},
   "source": [
    "Initialize array with compliance wavelength to image bands"
   ]
  },
  {
   "cell_type": "code",
   "execution_count": null,
   "metadata": {},
   "outputs": [],
   "source": [
    "wavelengths= [ \n",
    "        365.92981 ,  375.59399 ,  385.26254 ,  394.93552 ,  404.61288 , \n",
    "        414.29462 ,  423.98077 , 433.6713 ,\n",
    "         443.36621 ,  453.06552 ,  462.7692 ,  472.47729 ,  482.18976 ,  491.90665 ,  501.6279 ,  511.35355 ,    521.08356 ,  530.81799 ,\n",
    "         540.55682 , 550.30005,  560.04767,  569.79962 ,  579.55603 ,  589.31677 ,\n",
    "         599.08191 ,  608.8515 ,  618.62543 ,  628.40375 ,  638.18646 ,  647.97357 ,  657.76508 ,  667.56097 ,\n",
    "         654.7923 ,  664.59937 ,  674.40125 ,  684.19794 ,  693.98938,  703.77563 ,  713.55664 ,  723.33252 ,\n",
    "         733.10309,  742.86853 ,  752.62872,  762.38373,  772.13348,  781.87805,  791.61743 ,  801.35156 ,\n",
    "         811.08051 ,  820.80426,  830.52277, 840.23608 ,  849.94415 ,  859.64709 , 869.34479 ,  879.03723 ,\n",
    "         888.72449 , 898.40656 ,  908.08337 , 917.75507 ,  927.42145 ,  937.0827 ,  946.73871, 956.38947 ,\n",
    "        966.0351 , 975.67548 , 985.31061 , 994.94055 , 1004.56531 , 1014.18488 , 1023.79919 , 1033.40833 ,\n",
    "        1043.01221 , 1052.61096 , 1062.20447 , 1071.79272 , 1081.37573 , 1090.95361 , 1100.52625, 1110.09375,\n",
    "        1119.65601 , 1129.21301 , 1138.76477 , 1148.3114 , 1157.85278 , 1167.38904 , 1176.91992 , 1186.4458 ,\n",
    "        1195.96631 , 1205.48169 , 1214.99182 ,1224.4967 , 1233.99646 , 1243.49097 , 1252.98022 , 1262.46436 ,\n",
    "         1252.77295 , 1262.74573 , 1272.71826 , 1282.69055 , 1292.66248 , 1302.63428 , 1312.60583 , 1322.57715 ,\n",
    "         1332.5481 , 1342.51892 , 1352.4895 , 1362.45984 , 1372.42993 , 1382.39978 , 1392.36938 , 1402.33875 ,\n",
    "         1412.30786 , 1422.27673 , 1432.24536 , 1442.21375 , 1452.18188 , 1462.1499 , 1472.11755 , 1482.08496 ,\n",
    "        1492.05212 , 1502.01904 ,1511.98584,1521.95227,1531.91846,1541.88452,\n",
    "        1551.85022,1561.81567,1571.78101,1581.74597,1591.71082,1601.67529,1611.63965,\n",
    "        1621.60364,1631.5675,1641.53101,1651.49438,1661.45752,1671.42029,1681.38293,1691.34534,1701.30737,1711.26929,1721.23096,\n",
    "        1731.19238,1741.15344,1751.11438,1761.07507,1771.03552,1780.99573,1790.95569,1800.91541,1810.87488,1820.83411,1830.79309,1840.75183,\n",
    "        1850.71033,1860.66858,1870.62659,1871.7843,1865.96375,1876.02527,1886.08459,1896.14148,1906.19604,1916.24841,1926.29846,1936.34607,1946.39148,1956.43457,1966.47534,1976.51379,1986.55005,1996.58386,2006.61536,2016.64465,2026.67163,2036.69617,2046.71863,2056.73877,2066.75635,2076.77173,2086.78491,2096.79565,2106.8042,2116.8103,2126.81421,2136.81567,2146.81494,2156.81201,2166.80664,2176.79907,2186.78906,2196.77661,2206.76221,2216.74536,2226.72607,2236.70459,2246.68066,2256.65454,2266.62622,2276.59546,2286.5625,2296.5271,2306.4895,2316.44946,2326.40723,2336.36255,2346.31567,2356.2666,2366.21509,2376.16113,2386.10522,2396.04663,2405.98608,2415.9231,2425.85767,2435.79004,2445.71997,2455.64771,2465.57324,2475.49634,2485.41724,2495.33569\n",
    "    ]\n"
   ]
  },
  {
   "cell_type": "markdown",
   "id": "25c8e843",
   "metadata": {},
   "source": [
    "Initialize directories with images and gain coefficients "
   ]
  },
  {
   "cell_type": "code",
   "execution_count": null,
   "metadata": {},
   "outputs": [],
   "source": [
    "# path to dataset\n",
    "p = 'supplemental_materials/equilization'\n",
    "\n",
    "# path to *.gain file\n",
    "gain_path = 'supplemental_materials/equilization/f180628t02p00r06rdn_e.gain'"
   ]
  },
  {
   "cell_type": "markdown",
   "id": "c7183433",
   "metadata": {},
   "source": [
    "Run equilization with affine model"
   ]
  },
  {
   "cell_type": "code",
   "execution_count": null,
   "metadata": {},
   "outputs": [],
   "source": [
    "c1 = 1\n",
    "c2 = 2\n",
    "c3 = 3\n",
    "\n",
    "\n",
    "gain = read_gain(gain_path)\n",
    "\n",
    "r1n = rad(osp.join(p, f\"zone{c1}_n\"), gain)\n",
    "r1d = rad(osp.join(p, f\"zone{c1}_d\"), gain)\n",
    "\n",
    "r2n = rad(osp.join(p, f\"zone{c2}_n\"), gain)\n",
    "r2d = rad(osp.join(p, f\"zone{c2}_d\"), gain)\n",
    "\n",
    "r3n = rad(osp.join(p, f\"zone{c3}_n\"), gain)\n",
    "r3d = rad(osp.join(p, f\"zone{c3}_d\"), gain)\n",
    "\n",
    "model = AffineModel()\n",
    "\n",
    "model.fit([r1n, r2n], [r1d, r2d])\n",
    "\n",
    "y = r3n.copy()\n",
    "y_ = model.predict(r3d)"
   ]
  },
  {
   "cell_type": "markdown",
   "id": "9fc4f087",
   "metadata": {},
   "source": [
    "Vizualize results of algorithm work"
   ]
  },
  {
   "cell_type": "code",
   "execution_count": null,
   "metadata": {},
   "outputs": [],
   "source": [
    "plt.figure(figsize=(16,9))\n",
    "plt.plot(wavelengths, y, label=\"Ground-truth $L_{test}^n$\")\n",
    "plt.plot(wavelengths, y_, label=\"Estimated $L_{test}^n$\")\n",
    "plt.plot(wavelengths, r3d, label=\"$L_{test}^d$\")\n",
    "plt.legend()\n",
    "plt.ylim(0)\n",
    "plt.show()"
   ]
  }
 ],
 "metadata": {
  "kernelspec": {
   "display_name": "Python 3 (ipykernel)",
   "language": "python",
   "name": "python3"
  },
  "language_info": {
   "codemirror_mode": {
    "name": "ipython",
    "version": 3
   },
   "file_extension": ".py",
   "mimetype": "text/x-python",
   "name": "python",
   "nbconvert_exporter": "python",
   "pygments_lexer": "ipython3",
   "version": "3.11.7"
  }
 },
 "nbformat": 4,
 "nbformat_minor": 5
}
